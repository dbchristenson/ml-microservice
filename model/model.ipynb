{
 "cells": [
  {
   "cell_type": "markdown",
   "id": "57533662",
   "metadata": {},
   "source": [
    "## 1. Data Collection"
   ]
  },
  {
   "cell_type": "code",
   "execution_count": 75,
   "id": "02767a59",
   "metadata": {},
   "outputs": [],
   "source": [
    "import pandas as pd\n",
    "import seaborn as sns\n",
    "import matplotlib.pyplot as plt\n",
    "import numpy as np"
   ]
  },
  {
   "cell_type": "code",
   "execution_count": 16,
   "id": "106e1991",
   "metadata": {},
   "outputs": [
    {
     "data": {
      "application/vnd.microsoft.datawrangler.viewer.v0+json": {
       "columns": [
        {
         "name": "index",
         "rawType": "int64",
         "type": "integer"
        },
        {
         "name": "address",
         "rawType": "object",
         "type": "string"
        },
        {
         "name": "area",
         "rawType": "float64",
         "type": "float"
        },
        {
         "name": "constraction_year",
         "rawType": "int64",
         "type": "integer"
        },
        {
         "name": "rooms",
         "rawType": "int64",
         "type": "integer"
        },
        {
         "name": "bedrooms",
         "rawType": "int64",
         "type": "integer"
        },
        {
         "name": "bathrooms",
         "rawType": "int64",
         "type": "integer"
        },
        {
         "name": "balcony",
         "rawType": "object",
         "type": "string"
        },
        {
         "name": "storage",
         "rawType": "object",
         "type": "string"
        },
        {
         "name": "parking",
         "rawType": "object",
         "type": "string"
        },
        {
         "name": "furnished",
         "rawType": "object",
         "type": "string"
        },
        {
         "name": "garage",
         "rawType": "object",
         "type": "string"
        },
        {
         "name": "garden",
         "rawType": "object",
         "type": "string"
        },
        {
         "name": "energy",
         "rawType": "object",
         "type": "unknown"
        },
        {
         "name": "facilities",
         "rawType": "object",
         "type": "string"
        },
        {
         "name": "zip",
         "rawType": "object",
         "type": "string"
        },
        {
         "name": "neighborhood",
         "rawType": "object",
         "type": "string"
        },
        {
         "name": "rent",
         "rawType": "int64",
         "type": "integer"
        }
       ],
       "conversionMethod": "pd.DataFrame",
       "ref": "a583eba1-7df2-4e0a-9e98-0ad93d884520",
       "rows": [
        [
         "0",
         "1071 HN Amsterdam (Cornelis Schuytbuurt)",
         "167.0",
         "1870",
         "3",
         "2",
         "2",
         "yes",
         "no",
         "no",
         "yes",
         "no",
         "Not present",
         "D",
         "Roof terrace",
         "1071 HN",
         "Cornelis Schuytbuurt",
         "4500"
        ],
        [
         "1",
         "1071 HK Amsterdam (Concertgebouwbuurt)",
         "150.0",
         "1890",
         "3",
         "2",
         "2",
         "yes",
         "no",
         "yes",
         "yes",
         "no",
         "Not present",
         "A",
         "Cable TV, Internet connection, Fireplace, Bath, Toilet",
         "1071 HK",
         "Concertgebouwbuurt",
         "3450"
        ],
        [
         "2",
         "1071 HK Amsterdam (Concertgebouwbuurt)",
         "150.0",
         "1890",
         "3",
         "2",
         "2",
         "yes",
         "no",
         "yes",
         "yes",
         "no",
         "Not present",
         "A",
         "Cable TV, Internet connection, Fireplace, Bath, Toilet",
         "1071 HK",
         "Concertgebouwbuurt",
         "3450"
        ],
        [
         "3",
         "1071 WV Amsterdam (Hondecoeterbuurt)",
         "90.0",
         "1923",
         "3",
         "2",
         "1",
         "yes",
         "no",
         "no",
         "yes",
         "no",
         "Not present",
         null,
         "Shower, Toilet",
         "1071 WV",
         "Hondecoeterbuurt",
         "2000"
        ],
        [
         "4",
         "1071 WV Amsterdam (Hondecoeterbuurt)",
         "104.0",
         "1923",
         "3",
         "2",
         "1",
         "no",
         "no",
         "no",
         "no",
         "no",
         "Present (47 m²)",
         "D",
         "Shower, Bath, Toilet",
         "1071 WV",
         "Hondecoeterbuurt",
         "3250"
        ],
        [
         "5",
         "1071 WV Amsterdam (Hondecoeterbuurt)",
         "90.0",
         "1923",
         "3",
         "2",
         "1",
         "yes",
         "no",
         "no",
         "yes",
         "no",
         "Not present",
         null,
         "Shower, Toilet",
         "1071 WV",
         "Hondecoeterbuurt",
         "2000"
        ],
        [
         "6",
         "1071 WV Amsterdam (Hondecoeterbuurt)",
         "104.0",
         "1923",
         "3",
         "2",
         "1",
         "no",
         "no",
         "no",
         "no",
         "no",
         "Present (47 m²)",
         "D",
         "Shower, Bath, Toilet",
         "1071 WV",
         "Hondecoeterbuurt",
         "3250"
        ],
        [
         "7",
         "1071 XL Amsterdam (Duivelseiland)",
         "67.0",
         "1923",
         "3",
         "2",
         "1",
         "no",
         "no",
         "no",
         "no",
         "no",
         "Not present",
         "C",
         "Shower, Bath, Toilet",
         "1071 XL",
         "Duivelseiland",
         "1950"
        ],
        [
         "8",
         "1071 XL Amsterdam (Duivelseiland)",
         "67.0",
         "1923",
         "3",
         "2",
         "1",
         "no",
         "no",
         "no",
         "no",
         "no",
         "Not present",
         "C",
         "Shower, Bath, Toilet",
         "1071 XL",
         "Duivelseiland",
         "1850"
        ],
        [
         "9",
         "1071 AC Amsterdam (P.C. Hooftbuurt)",
         "85.0",
         "1900",
         "2",
         "1",
         "1",
         "no",
         "no",
         "yes",
         "yes",
         "no",
         "Not present",
         null,
         "Bath, Toilet",
         "1071 AC",
         "P.C. Hooftbuurt",
         "2650"
        ]
       ],
       "shape": {
        "columns": 17,
        "rows": 10
       }
      },
      "text/html": [
       "<div>\n",
       "<style scoped>\n",
       "    .dataframe tbody tr th:only-of-type {\n",
       "        vertical-align: middle;\n",
       "    }\n",
       "\n",
       "    .dataframe tbody tr th {\n",
       "        vertical-align: top;\n",
       "    }\n",
       "\n",
       "    .dataframe thead th {\n",
       "        text-align: right;\n",
       "    }\n",
       "</style>\n",
       "<table border=\"1\" class=\"dataframe\">\n",
       "  <thead>\n",
       "    <tr style=\"text-align: right;\">\n",
       "      <th></th>\n",
       "      <th>address</th>\n",
       "      <th>area</th>\n",
       "      <th>constraction_year</th>\n",
       "      <th>rooms</th>\n",
       "      <th>bedrooms</th>\n",
       "      <th>bathrooms</th>\n",
       "      <th>balcony</th>\n",
       "      <th>storage</th>\n",
       "      <th>parking</th>\n",
       "      <th>furnished</th>\n",
       "      <th>garage</th>\n",
       "      <th>garden</th>\n",
       "      <th>energy</th>\n",
       "      <th>facilities</th>\n",
       "      <th>zip</th>\n",
       "      <th>neighborhood</th>\n",
       "      <th>rent</th>\n",
       "    </tr>\n",
       "  </thead>\n",
       "  <tbody>\n",
       "    <tr>\n",
       "      <th>0</th>\n",
       "      <td>1071 HN Amsterdam (Cornelis Schuytbuurt)</td>\n",
       "      <td>167.0</td>\n",
       "      <td>1870</td>\n",
       "      <td>3</td>\n",
       "      <td>2</td>\n",
       "      <td>2</td>\n",
       "      <td>yes</td>\n",
       "      <td>no</td>\n",
       "      <td>no</td>\n",
       "      <td>yes</td>\n",
       "      <td>no</td>\n",
       "      <td>Not present</td>\n",
       "      <td>D</td>\n",
       "      <td>Roof terrace</td>\n",
       "      <td>1071 HN</td>\n",
       "      <td>Cornelis Schuytbuurt</td>\n",
       "      <td>4500</td>\n",
       "    </tr>\n",
       "    <tr>\n",
       "      <th>1</th>\n",
       "      <td>1071 HK Amsterdam (Concertgebouwbuurt)</td>\n",
       "      <td>150.0</td>\n",
       "      <td>1890</td>\n",
       "      <td>3</td>\n",
       "      <td>2</td>\n",
       "      <td>2</td>\n",
       "      <td>yes</td>\n",
       "      <td>no</td>\n",
       "      <td>yes</td>\n",
       "      <td>yes</td>\n",
       "      <td>no</td>\n",
       "      <td>Not present</td>\n",
       "      <td>A</td>\n",
       "      <td>Cable TV, Internet connection, Fireplace, Bath...</td>\n",
       "      <td>1071 HK</td>\n",
       "      <td>Concertgebouwbuurt</td>\n",
       "      <td>3450</td>\n",
       "    </tr>\n",
       "    <tr>\n",
       "      <th>2</th>\n",
       "      <td>1071 HK Amsterdam (Concertgebouwbuurt)</td>\n",
       "      <td>150.0</td>\n",
       "      <td>1890</td>\n",
       "      <td>3</td>\n",
       "      <td>2</td>\n",
       "      <td>2</td>\n",
       "      <td>yes</td>\n",
       "      <td>no</td>\n",
       "      <td>yes</td>\n",
       "      <td>yes</td>\n",
       "      <td>no</td>\n",
       "      <td>Not present</td>\n",
       "      <td>A</td>\n",
       "      <td>Cable TV, Internet connection, Fireplace, Bath...</td>\n",
       "      <td>1071 HK</td>\n",
       "      <td>Concertgebouwbuurt</td>\n",
       "      <td>3450</td>\n",
       "    </tr>\n",
       "    <tr>\n",
       "      <th>3</th>\n",
       "      <td>1071 WV Amsterdam (Hondecoeterbuurt)</td>\n",
       "      <td>90.0</td>\n",
       "      <td>1923</td>\n",
       "      <td>3</td>\n",
       "      <td>2</td>\n",
       "      <td>1</td>\n",
       "      <td>yes</td>\n",
       "      <td>no</td>\n",
       "      <td>no</td>\n",
       "      <td>yes</td>\n",
       "      <td>no</td>\n",
       "      <td>Not present</td>\n",
       "      <td>NaN</td>\n",
       "      <td>Shower, Toilet</td>\n",
       "      <td>1071 WV</td>\n",
       "      <td>Hondecoeterbuurt</td>\n",
       "      <td>2000</td>\n",
       "    </tr>\n",
       "    <tr>\n",
       "      <th>4</th>\n",
       "      <td>1071 WV Amsterdam (Hondecoeterbuurt)</td>\n",
       "      <td>104.0</td>\n",
       "      <td>1923</td>\n",
       "      <td>3</td>\n",
       "      <td>2</td>\n",
       "      <td>1</td>\n",
       "      <td>no</td>\n",
       "      <td>no</td>\n",
       "      <td>no</td>\n",
       "      <td>no</td>\n",
       "      <td>no</td>\n",
       "      <td>Present (47 m²)</td>\n",
       "      <td>D</td>\n",
       "      <td>Shower, Bath, Toilet</td>\n",
       "      <td>1071 WV</td>\n",
       "      <td>Hondecoeterbuurt</td>\n",
       "      <td>3250</td>\n",
       "    </tr>\n",
       "    <tr>\n",
       "      <th>5</th>\n",
       "      <td>1071 WV Amsterdam (Hondecoeterbuurt)</td>\n",
       "      <td>90.0</td>\n",
       "      <td>1923</td>\n",
       "      <td>3</td>\n",
       "      <td>2</td>\n",
       "      <td>1</td>\n",
       "      <td>yes</td>\n",
       "      <td>no</td>\n",
       "      <td>no</td>\n",
       "      <td>yes</td>\n",
       "      <td>no</td>\n",
       "      <td>Not present</td>\n",
       "      <td>NaN</td>\n",
       "      <td>Shower, Toilet</td>\n",
       "      <td>1071 WV</td>\n",
       "      <td>Hondecoeterbuurt</td>\n",
       "      <td>2000</td>\n",
       "    </tr>\n",
       "    <tr>\n",
       "      <th>6</th>\n",
       "      <td>1071 WV Amsterdam (Hondecoeterbuurt)</td>\n",
       "      <td>104.0</td>\n",
       "      <td>1923</td>\n",
       "      <td>3</td>\n",
       "      <td>2</td>\n",
       "      <td>1</td>\n",
       "      <td>no</td>\n",
       "      <td>no</td>\n",
       "      <td>no</td>\n",
       "      <td>no</td>\n",
       "      <td>no</td>\n",
       "      <td>Present (47 m²)</td>\n",
       "      <td>D</td>\n",
       "      <td>Shower, Bath, Toilet</td>\n",
       "      <td>1071 WV</td>\n",
       "      <td>Hondecoeterbuurt</td>\n",
       "      <td>3250</td>\n",
       "    </tr>\n",
       "    <tr>\n",
       "      <th>7</th>\n",
       "      <td>1071 XL Amsterdam (Duivelseiland)</td>\n",
       "      <td>67.0</td>\n",
       "      <td>1923</td>\n",
       "      <td>3</td>\n",
       "      <td>2</td>\n",
       "      <td>1</td>\n",
       "      <td>no</td>\n",
       "      <td>no</td>\n",
       "      <td>no</td>\n",
       "      <td>no</td>\n",
       "      <td>no</td>\n",
       "      <td>Not present</td>\n",
       "      <td>C</td>\n",
       "      <td>Shower, Bath, Toilet</td>\n",
       "      <td>1071 XL</td>\n",
       "      <td>Duivelseiland</td>\n",
       "      <td>1950</td>\n",
       "    </tr>\n",
       "    <tr>\n",
       "      <th>8</th>\n",
       "      <td>1071 XL Amsterdam (Duivelseiland)</td>\n",
       "      <td>67.0</td>\n",
       "      <td>1923</td>\n",
       "      <td>3</td>\n",
       "      <td>2</td>\n",
       "      <td>1</td>\n",
       "      <td>no</td>\n",
       "      <td>no</td>\n",
       "      <td>no</td>\n",
       "      <td>no</td>\n",
       "      <td>no</td>\n",
       "      <td>Not present</td>\n",
       "      <td>C</td>\n",
       "      <td>Shower, Bath, Toilet</td>\n",
       "      <td>1071 XL</td>\n",
       "      <td>Duivelseiland</td>\n",
       "      <td>1850</td>\n",
       "    </tr>\n",
       "    <tr>\n",
       "      <th>9</th>\n",
       "      <td>1071 AC Amsterdam (P.C. Hooftbuurt)</td>\n",
       "      <td>85.0</td>\n",
       "      <td>1900</td>\n",
       "      <td>2</td>\n",
       "      <td>1</td>\n",
       "      <td>1</td>\n",
       "      <td>no</td>\n",
       "      <td>no</td>\n",
       "      <td>yes</td>\n",
       "      <td>yes</td>\n",
       "      <td>no</td>\n",
       "      <td>Not present</td>\n",
       "      <td>NaN</td>\n",
       "      <td>Bath, Toilet</td>\n",
       "      <td>1071 AC</td>\n",
       "      <td>P.C. Hooftbuurt</td>\n",
       "      <td>2650</td>\n",
       "    </tr>\n",
       "  </tbody>\n",
       "</table>\n",
       "</div>"
      ],
      "text/plain": [
       "                                    address   area  constraction_year  rooms  \\\n",
       "0  1071 HN Amsterdam (Cornelis Schuytbuurt)  167.0               1870      3   \n",
       "1    1071 HK Amsterdam (Concertgebouwbuurt)  150.0               1890      3   \n",
       "2    1071 HK Amsterdam (Concertgebouwbuurt)  150.0               1890      3   \n",
       "3      1071 WV Amsterdam (Hondecoeterbuurt)   90.0               1923      3   \n",
       "4      1071 WV Amsterdam (Hondecoeterbuurt)  104.0               1923      3   \n",
       "5      1071 WV Amsterdam (Hondecoeterbuurt)   90.0               1923      3   \n",
       "6      1071 WV Amsterdam (Hondecoeterbuurt)  104.0               1923      3   \n",
       "7         1071 XL Amsterdam (Duivelseiland)   67.0               1923      3   \n",
       "8         1071 XL Amsterdam (Duivelseiland)   67.0               1923      3   \n",
       "9       1071 AC Amsterdam (P.C. Hooftbuurt)   85.0               1900      2   \n",
       "\n",
       "   bedrooms  bathrooms balcony storage parking furnished garage  \\\n",
       "0         2          2     yes      no      no       yes     no   \n",
       "1         2          2     yes      no     yes       yes     no   \n",
       "2         2          2     yes      no     yes       yes     no   \n",
       "3         2          1     yes      no      no       yes     no   \n",
       "4         2          1      no      no      no        no     no   \n",
       "5         2          1     yes      no      no       yes     no   \n",
       "6         2          1      no      no      no        no     no   \n",
       "7         2          1      no      no      no        no     no   \n",
       "8         2          1      no      no      no        no     no   \n",
       "9         1          1      no      no     yes       yes     no   \n",
       "\n",
       "            garden energy                                         facilities  \\\n",
       "0      Not present      D                                       Roof terrace   \n",
       "1      Not present      A  Cable TV, Internet connection, Fireplace, Bath...   \n",
       "2      Not present      A  Cable TV, Internet connection, Fireplace, Bath...   \n",
       "3      Not present    NaN                                     Shower, Toilet   \n",
       "4  Present (47 m²)      D                               Shower, Bath, Toilet   \n",
       "5      Not present    NaN                                     Shower, Toilet   \n",
       "6  Present (47 m²)      D                               Shower, Bath, Toilet   \n",
       "7      Not present      C                               Shower, Bath, Toilet   \n",
       "8      Not present      C                               Shower, Bath, Toilet   \n",
       "9      Not present    NaN                                       Bath, Toilet   \n",
       "\n",
       "       zip          neighborhood  rent  \n",
       "0  1071 HN  Cornelis Schuytbuurt  4500  \n",
       "1  1071 HK    Concertgebouwbuurt  3450  \n",
       "2  1071 HK    Concertgebouwbuurt  3450  \n",
       "3  1071 WV      Hondecoeterbuurt  2000  \n",
       "4  1071 WV      Hondecoeterbuurt  3250  \n",
       "5  1071 WV      Hondecoeterbuurt  2000  \n",
       "6  1071 WV      Hondecoeterbuurt  3250  \n",
       "7  1071 XL         Duivelseiland  1950  \n",
       "8  1071 XL         Duivelseiland  1850  \n",
       "9  1071 AC       P.C. Hooftbuurt  2650  "
      ]
     },
     "execution_count": 16,
     "metadata": {},
     "output_type": "execute_result"
    }
   ],
   "source": [
    "apartment_df = pd.read_csv('rent_apartments.csv')\n",
    "apartment_df.head(10)"
   ]
  },
  {
   "cell_type": "markdown",
   "id": "e1227b46",
   "metadata": {},
   "source": [
    "## 2. Data Preparation"
   ]
  },
  {
   "cell_type": "code",
   "execution_count": 17,
   "id": "c3a882a0",
   "metadata": {},
   "outputs": [
    {
     "data": {
      "text/plain": [
       "address               object\n",
       "area                 float64\n",
       "constraction_year      int64\n",
       "rooms                  int64\n",
       "bedrooms               int64\n",
       "bathrooms              int64\n",
       "balcony               object\n",
       "storage               object\n",
       "parking               object\n",
       "furnished             object\n",
       "garage                object\n",
       "garden                object\n",
       "energy                object\n",
       "facilities            object\n",
       "zip                   object\n",
       "neighborhood          object\n",
       "rent                   int64\n",
       "dtype: object"
      ]
     },
     "execution_count": 17,
     "metadata": {},
     "output_type": "execute_result"
    }
   ],
   "source": [
    "apartment_df.dtypes"
   ]
  },
  {
   "cell_type": "code",
   "execution_count": 18,
   "id": "2bbb4ad5",
   "metadata": {},
   "outputs": [],
   "source": [
    "cols_to_encode = ['balcony', 'storage', 'parking', 'furnished', 'garage']\n",
    "\n",
    "encoded_df = pd.get_dummies(apartment_df, columns=cols_to_encode, drop_first=True)"
   ]
  },
  {
   "cell_type": "code",
   "execution_count": 19,
   "id": "13cca4bb",
   "metadata": {},
   "outputs": [],
   "source": [
    "import re\n",
    "\n",
    "def handle_garden(x: pd.Series):\n",
    "    if x == \"Not present\":\n",
    "        return 0\n",
    "\n",
    "    return int(re.findall(r'\\d+', x)[0])\n",
    "\n",
    "try:\n",
    "    encoded_df.garden = encoded_df.garden.map(handle_garden)\n",
    "except TypeError:\n",
    "    print(\"Already converted to int\")"
   ]
  },
  {
   "cell_type": "code",
   "execution_count": 20,
   "id": "b6e68715",
   "metadata": {},
   "outputs": [],
   "source": [
    "# location is often one of the most important vectors for determining real estate prices\n",
    "# because there are so many neighborhoods, we can simplify the names by using only the\n",
    "# first word of the neighborhood\n",
    "def handle_neighborhood(x: pd.Series):\n",
    "    return x.split()[0]\n",
    "\n",
    "encoded_df.neighborhood = encoded_df.neighborhood.map(handle_neighborhood)\n",
    "\n",
    "# then we will get the dummies for the neighborhood\n",
    "encoded_df = pd.get_dummies(encoded_df, columns=['neighborhood'], drop_first=True)"
   ]
  },
  {
   "cell_type": "code",
   "execution_count": 21,
   "id": "840a606e",
   "metadata": {},
   "outputs": [],
   "source": [
    "# because we encoded the rough location, we can drop uninterpretable columns related to location\n",
    "# such as address and zip\n",
    "encoded_df = encoded_df.drop(columns=['address', 'zip'])"
   ]
  },
  {
   "cell_type": "code",
   "execution_count": null,
   "id": "a7b2b8f5",
   "metadata": {},
   "outputs": [],
   "source": [
    "# now we can encode the facilities in the apartment listing by extracting a\n",
    "# normalized version of the tokens and binarizing the labels\n",
    "def clean_facility(tokens: str):\n",
    "    if type(tokens) == float:\n",
    "        return []\n",
    "\n",
    "    res = []\n",
    "\n",
    "    for token in tokens:\n",
    "        token = token.strip().lower()\n",
    "        # turn spaces or hyphens into underscores\n",
    "        token = re.sub(r\"[\\s\\-]+\", \"_\", token)\n",
    "        res.append(token)\n",
    "\n",
    "    return res"
   ]
  },
  {
   "cell_type": "code",
   "execution_count": 81,
   "id": "420fa960",
   "metadata": {},
   "outputs": [],
   "source": [
    "facility_list = encoded_df[\"facilities\"].str.split(r\",\\s*\")\n",
    "encoded_df[\"facility_list\"] = facility_list.apply(lambda x: clean_facility(x))"
   ]
  },
  {
   "cell_type": "code",
   "execution_count": 84,
   "id": "4f749df9",
   "metadata": {},
   "outputs": [],
   "source": [
    "# lets get a cleaned list of possible facilities\n",
    "facilities_set = set()\n",
    "\n",
    "for s in encoded_df.facilities.values:\n",
    "    try:\n",
    "        s = s.lower()\n",
    "    except AttributeError:\n",
    "        continue\n",
    "    facility_list = s.split(',')\n",
    "    for facility in facility_list:\n",
    "        facilities_set.add(facility.strip())\n",
    "\n",
    "cleaned_facilities = []\n",
    "\n",
    "for facility in facilities_set:\n",
    "\n",
    "    cleaned_s = facility.replace(\" \", \"_\")\n",
    "    cleaned_s = cleaned_s.replace(\"-\", \"_\")\n",
    "\n",
    "    cleaned_facilities.append(cleaned_s)"
   ]
  },
  {
   "cell_type": "code",
   "execution_count": 85,
   "id": "d1597960",
   "metadata": {},
   "outputs": [],
   "source": [
    "from sklearn.preprocessing import MultiLabelBinarizer\n",
    "\n",
    "mlb = MultiLabelBinarizer(classes=cleaned_facilities)\n",
    "fac_dummies = pd.DataFrame(\n",
    "    mlb.fit_transform(encoded_df[\"facility_list\"]), columns=mlb.classes_, index=encoded_df.index\n",
    ")\n",
    "\n",
    "# merge back into your df\n",
    "encoded_df = pd.concat([encoded_df, fac_dummies], axis=1)\n",
    "encoded_df[\"n_facilities\"] = encoded_df[\"facility_list\"].str.len()"
   ]
  },
  {
   "cell_type": "code",
   "execution_count": 86,
   "id": "e2b484e4",
   "metadata": {},
   "outputs": [],
   "source": [
    "# after this process we can drop the uninterpretable columns such as facility_list and facilities\n",
    "encoded_df = encoded_df.drop(columns=[\"facility_list\", \"facilities\"])"
   ]
  },
  {
   "cell_type": "code",
   "execution_count": 87,
   "id": "5329fb42",
   "metadata": {},
   "outputs": [],
   "source": [
    "# the last variable we need to handle is the \"energy\" column\n",
    "# ordered list from worst → best\n",
    "ordered_grades = [\n",
    "    \"G\",\n",
    "    \"F\",\n",
    "    \"E\",\n",
    "    \"D\",\n",
    "    \"C\",\n",
    "    \"B\",\n",
    "    \"A\",\n",
    "    \"A+\",\n",
    "    \"A++\",\n",
    "    \"A+++\",\n",
    "    \"A++++\",\n",
    "]\n",
    "\n",
    "# make an ordered dtype\n",
    "cat_type = pd.api.types.CategoricalDtype(categories=ordered_grades, ordered=True)\n",
    "\n",
    "# convert and pull out codes\n",
    "encoded_df[\"energy_cat\"] = encoded_df[\"energy\"].astype(cat_type)\n",
    "# codes will be 0 … 10; we'll shift to 1 … 11\n",
    "encoded_df[\"energy_code\"] = encoded_df[\"energy_cat\"].cat.codes.replace(-1, np.nan) + 1"
   ]
  },
  {
   "cell_type": "code",
   "execution_count": 88,
   "id": "bdd66678",
   "metadata": {},
   "outputs": [
    {
     "name": "stderr",
     "output_type": "stream",
     "text": [
      "/var/folders/46/vx3njgs97gvfp07b3lv4l9rc0000gn/T/ipykernel_36898/3701497223.py:6: FutureWarning: A value is trying to be set on a copy of a DataFrame or Series through chained assignment using an inplace method.\n",
      "The behavior will change in pandas 3.0. This inplace method will never work because the intermediate object on which we are setting values always behaves as a copy.\n",
      "\n",
      "For example, when doing 'df[col].method(value, inplace=True)', try using 'df.method({col: value}, inplace=True)' or df[col] = df[col].method(value) instead, to perform the operation inplace on the original object.\n",
      "\n",
      "\n",
      "  encoded_df[\"energy_code\"].fillna(median_code, inplace=True)\n"
     ]
    }
   ],
   "source": [
    "# energy grade missing indicator\n",
    "encoded_df[\"energy_missing\"] = encoded_df[\"energy_code\"].isna().astype(int)\n",
    "\n",
    "# 2) fill with median of observed codes\n",
    "median_code = encoded_df[\"energy_code\"].median()\n",
    "encoded_df[\"energy_code\"].fillna(median_code, inplace=True)"
   ]
  },
  {
   "cell_type": "code",
   "execution_count": 89,
   "id": "fec226f0",
   "metadata": {},
   "outputs": [],
   "source": [
    "# lets prune unecessary columns\n",
    "encoded_df = encoded_df.drop(columns=[\"energy\", \"energy_cat\"])"
   ]
  },
  {
   "cell_type": "markdown",
   "id": "01aaa54a",
   "metadata": {},
   "source": [
    "## 3. Model Building"
   ]
  },
  {
   "cell_type": "code",
   "execution_count": 104,
   "id": "d4a9aac5",
   "metadata": {},
   "outputs": [],
   "source": [
    "from sklearn.linear_model import LinearRegression, Ridge, Lasso\n",
    "from sklearn.ensemble import RandomForestRegressor\n",
    "from sklearn.model_selection import train_test_split\n",
    "from sklearn.metrics import root_mean_squared_error\n",
    "from sklearn.base import RegressorMixin"
   ]
  },
  {
   "cell_type": "code",
   "execution_count": null,
   "id": "400b6469",
   "metadata": {},
   "outputs": [],
   "source": [
    "# problem: predict rental price of apartments\n",
    "X_df = encoded_df.drop(columns=[\"rent\"])\n",
    "y_df = encoded_df.rent\n",
    "X_train, X_test, y_train, y_test = train_test_split(X_df, y_df, train_size=0.8, test_size=0.2)"
   ]
  },
  {
   "cell_type": "code",
   "execution_count": 121,
   "id": "7b8002af",
   "metadata": {},
   "outputs": [],
   "source": [
    "linreg = LinearRegression().fit(X_train, y_train)\n",
    "ridgereg = Ridge(alpha=2).fit(X_train, y_train)\n",
    "lassoreg = Lasso(alpha=1).fit(X_train, y_train)\n",
    "rfreg = RandomForestRegressor().fit(X_train, y_train)\n",
    "\n",
    "models = [linreg, ridgereg, lassoreg, rfreg]"
   ]
  },
  {
   "cell_type": "code",
   "execution_count": 122,
   "id": "b7f7bc03",
   "metadata": {},
   "outputs": [],
   "source": [
    "def regression_scorer(model: RegressorMixin, X_test: pd.DataFrame, y_test: pd.DataFrame):\n",
    "    y_pred = model.predict(X_test)\n",
    "    return root_mean_squared_error(y_true=y_test, y_pred=y_pred)\n"
   ]
  },
  {
   "cell_type": "code",
   "execution_count": 123,
   "id": "f99ab0a8",
   "metadata": {},
   "outputs": [
    {
     "name": "stdout",
     "output_type": "stream",
     "text": [
      "LinearRegression():  430.73913464611417\n",
      "Ridge(alpha=2):  418.8963917069548\n",
      "Lasso(alpha=1):  432.1042736326563\n",
      "RandomForestRegressor():  376.65379731073614\n"
     ]
    }
   ],
   "source": [
    "for model in models:\n",
    "    print(f\"{model}: \", regression_scorer(model, X_test=X_test, y_test=y_test))"
   ]
  },
  {
   "cell_type": "code",
   "execution_count": 125,
   "id": "c7a91770",
   "metadata": {},
   "outputs": [],
   "source": [
    "# looks like the random forest model is the best, lets tune our hyper parameters now\n",
    "from sklearn.model_selection import GridSearchCV"
   ]
  },
  {
   "cell_type": "code",
   "execution_count": 126,
   "id": "e6520e5b",
   "metadata": {},
   "outputs": [],
   "source": [
    "grid_space = {'n_estimators': [100, 200, 300], 'max_depth': [3, 6, 9, 12, 24, 48, 96]}"
   ]
  },
  {
   "cell_type": "code",
   "execution_count": 128,
   "id": "3c147161",
   "metadata": {},
   "outputs": [],
   "source": [
    "grid = GridSearchCV(RandomForestRegressor(), grid_space, cv=5, scoring=\"r2\")\n",
    "model_grid = grid.fit(X_train, y_train)"
   ]
  },
  {
   "cell_type": "code",
   "execution_count": 129,
   "id": "c115ab6c",
   "metadata": {},
   "outputs": [
    {
     "name": "stdout",
     "output_type": "stream",
     "text": [
      "Best hyperparameters are {'max_depth': 96, 'n_estimators': 200}, score = 0.7818370670449909\n"
     ]
    }
   ],
   "source": [
    "print(f\"Best hyperparameters are {model_grid.best_params_}, score = {model_grid.best_score_}\")"
   ]
  },
  {
   "cell_type": "markdown",
   "id": "f26811ec",
   "metadata": {},
   "source": [
    "## 4. Model Management"
   ]
  },
  {
   "cell_type": "code",
   "execution_count": 130,
   "id": "b96231a7",
   "metadata": {},
   "outputs": [],
   "source": [
    "import pickle as pk"
   ]
  },
  {
   "cell_type": "code",
   "execution_count": 131,
   "id": "cf6ca06f",
   "metadata": {},
   "outputs": [],
   "source": [
    "final_model = RandomForestRegressor(max_depth=96, n_estimators=200).fit(X_train, y_train)"
   ]
  },
  {
   "cell_type": "code",
   "execution_count": 133,
   "id": "7b14107a",
   "metadata": {},
   "outputs": [],
   "source": [
    "pk.dump(final_model, open(\"models/rf_v1\", \"wb\"))"
   ]
  },
  {
   "cell_type": "code",
   "execution_count": 134,
   "id": "a2d30a11",
   "metadata": {},
   "outputs": [],
   "source": [
    "rf_v1 = pk.load(open(\"models/rf_v1\", \"rb\"))"
   ]
  }
 ],
 "metadata": {
  "kernelspec": {
   "display_name": ".venv",
   "language": "python",
   "name": "python3"
  },
  "language_info": {
   "codemirror_mode": {
    "name": "ipython",
    "version": 3
   },
   "file_extension": ".py",
   "mimetype": "text/x-python",
   "name": "python",
   "nbconvert_exporter": "python",
   "pygments_lexer": "ipython3",
   "version": "3.13.3"
  }
 },
 "nbformat": 4,
 "nbformat_minor": 5
}
